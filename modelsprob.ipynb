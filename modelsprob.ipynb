{
 "cells": [
  {
   "cell_type": "markdown",
   "metadata": {
    "hide": true
   },
   "source": [
    "## Probability, Modeling and Simulation"
   ]
  },
  {
   "cell_type": "markdown",
   "metadata": {},
   "source": [
    "\n",
    "\n",
    "We will do:\n",
    "\n",
    "* numpy\n",
    "* Describe a very simple model of coin tosses\n",
    "* Coin tosses model simulation.\n",
    "* The notion of a generative model\n",
    "* Election model. Simulation. \n",
    "* Evaluation of the election model.\n"
   ]
  },
  {
   "cell_type": "code",
   "execution_count": 47,
   "metadata": {
    "collapsed": false,
    "hide": true
   },
   "outputs": [],
   "source": [
    "%matplotlib inline\n",
    "import numpy as np\n",
    "import scipy as sp\n",
    "import matplotlib as mpl\n",
    "import matplotlib.cm as cm\n",
    "import matplotlib.pyplot as plt\n",
    "import pandas as pd\n",
    "import seaborn.apionly as sns"
   ]
  },
  {
   "cell_type": "markdown",
   "metadata": {},
   "source": [
    "## Hello Numpy\n",
    "\n",
    "The Numpy array processing library is the basis of nearly all numerical computing in Python. Here's a 30 second crash course. "
   ]
  },
  {
   "cell_type": "code",
   "execution_count": 2,
   "metadata": {},
   "outputs": [
    {
     "name": "stdout",
     "output_type": "stream",
     "text": [
      "Make a 3 row x 4 column array of random numbers\n",
      "[[0.03308606 0.00909015 0.34029394 0.23091601]\n",
      " [0.44972183 0.96501951 0.94145264 0.21084649]\n",
      " [0.97678124 0.52777827 0.44290072 0.99486383]] \n",
      "\n",
      "-----------------\n",
      "Get the element at row 1, column 2\n",
      "0.9414526388038846\n",
      "Get the first row\n",
      "[0.03308606 0.00909015 0.34029394 0.23091601]\n",
      "Last 2 items in the first row\n",
      "[0.34029394 0.23091601]\n",
      "Get every 2nd item in the first row\n",
      "[0.03308606 0.34029394]\n"
     ]
    }
   ],
   "source": [
    "print(\"Make a 3 row x 4 column array of random numbers\")\n",
    "x = np.random.random((3, 4))\n",
    "print(x,\"\\n\")\n",
    "print(\"-----------------\")\n",
    "print(\"Get the element at row 1, column 2\")\n",
    "print(x[1, 2])\n",
    "\n",
    "# The colon syntax is called \"slicing\" the array. \n",
    "print(\"Get the first row\")\n",
    "print(x[0, :])\n",
    "\n",
    "print(\"Last 2 items in the first row\")\n",
    "print(x[0, -2:])\n",
    "\n",
    "print(\"Get every 2nd item in the first row\")\n",
    "print(x[0, ::2])"
   ]
  },
  {
   "cell_type": "code",
   "execution_count": 3,
   "metadata": {},
   "outputs": [
    {
     "name": "stdout",
     "output_type": "stream",
     "text": [
      "Max is   0.994863829126892\n",
      "Min is   0.00909014871283731\n",
      "Mean is  0.5102292231101226\n"
     ]
    }
   ],
   "source": [
    "print(\"Max is  \", x.max())\n",
    "print(\"Min is  \", x.min())\n",
    "print(\"Mean is \", x.mean())"
   ]
  },
  {
   "cell_type": "code",
   "execution_count": 4,
   "metadata": {},
   "outputs": [
    {
     "name": "stdout",
     "output_type": "stream",
     "text": [
      "[0.34029394 0.96501951 0.99486383]\n"
     ]
    }
   ],
   "source": [
    "print(x.max(axis=1))"
   ]
  },
  {
   "cell_type": "code",
   "execution_count": 5,
   "metadata": {},
   "outputs": [
    {
     "name": "stdout",
     "output_type": "stream",
     "text": [
      "[0.97678124 0.96501951 0.94145264 0.99486383]\n"
     ]
    }
   ],
   "source": [
    "print(x.max(axis=0))"
   ]
  },
  {
   "cell_type": "markdown",
   "metadata": {},
   "source": [
    "There are many ways to construct these arrays"
   ]
  },
  {
   "cell_type": "code",
   "execution_count": 6,
   "metadata": {},
   "outputs": [
    {
     "data": {
      "text/plain": [
       "((5,), dtype('int64'))"
      ]
     },
     "execution_count": 6,
     "metadata": {},
     "output_type": "execute_result"
    }
   ],
   "source": [
    "thearray = np.array([1, 2, 3, 4, 5])\n",
    "thearray.shape, thearray.dtype"
   ]
  },
  {
   "cell_type": "code",
   "execution_count": 7,
   "metadata": {},
   "outputs": [
    {
     "data": {
      "text/plain": [
       "array([1, 1, 1, 1, 1, 1, 1, 1, 1, 1])"
      ]
     },
     "execution_count": 7,
     "metadata": {},
     "output_type": "execute_result"
    }
   ],
   "source": [
    "ones = np.ones(10, dtype=\"int64\")\n",
    "ones"
   ]
  },
  {
   "cell_type": "code",
   "execution_count": 8,
   "metadata": {},
   "outputs": [
    {
     "data": {
      "text/plain": [
       "array([1., 1., 1., 1., 1., 1., 1., 1., 1., 1.])"
      ]
     },
     "execution_count": 8,
     "metadata": {},
     "output_type": "execute_result"
    }
   ],
   "source": [
    "ones_float = np.ones(10)\n",
    "ones_float"
   ]
  },
  {
   "cell_type": "code",
   "execution_count": 9,
   "metadata": {},
   "outputs": [
    {
     "data": {
      "text/plain": [
       "array([[0., 0., 0., 0.],\n",
       "       [0., 0., 0., 0.],\n",
       "       [0., 0., 0., 0.]])"
      ]
     },
     "execution_count": 9,
     "metadata": {},
     "output_type": "execute_result"
    }
   ],
   "source": [
    "np.zeros((3,4))"
   ]
  },
  {
   "cell_type": "code",
   "execution_count": 10,
   "metadata": {},
   "outputs": [
    {
     "data": {
      "text/plain": [
       "array([[0., 0., 0., 0.],\n",
       "       [0., 0., 0., 0.],\n",
       "       [0., 0., 0., 0.]])"
      ]
     },
     "execution_count": 10,
     "metadata": {},
     "output_type": "execute_result"
    }
   ],
   "source": [
    "np.empty((3,4))"
   ]
  },
  {
   "cell_type": "markdown",
   "metadata": {},
   "source": [
    "Operations on numpy arrays are very different from those on regular python lists."
   ]
  },
  {
   "cell_type": "code",
   "execution_count": 11,
   "metadata": {},
   "outputs": [
    {
     "name": "stdout",
     "output_type": "stream",
     "text": [
      "Add 1 to every element\n"
     ]
    },
    {
     "data": {
      "text/plain": [
       "(array([[0.03308606, 0.00909015, 0.34029394, 0.23091601],\n",
       "        [0.44972183, 0.96501951, 0.94145264, 0.21084649],\n",
       "        [0.97678124, 0.52777827, 0.44290072, 0.99486383]]),\n",
       " array([[1.03308606, 1.00909015, 1.34029394, 1.23091601],\n",
       "        [1.44972183, 1.96501951, 1.94145264, 1.21084649],\n",
       "        [1.97678124, 1.52777827, 1.44290072, 1.99486383]]))"
      ]
     },
     "execution_count": 11,
     "metadata": {},
     "output_type": "execute_result"
    }
   ],
   "source": [
    "print(\"Add 1 to every element\")\n",
    "y = x + 1\n",
    "x, y"
   ]
  },
  {
   "cell_type": "markdown",
   "metadata": {},
   "source": [
    "This notion of adding 1 to every element, by virtually creating an array of 1's is called **broadcasting**"
   ]
  },
  {
   "cell_type": "code",
   "execution_count": 12,
   "metadata": {},
   "outputs": [
    {
     "data": {
      "text/plain": [
       "[1, 1, 1, 1, 1, 1.0, 1.0, 1.0, 1.0, 1.0]"
      ]
     },
     "execution_count": 12,
     "metadata": {},
     "output_type": "execute_result"
    }
   ],
   "source": [
    "int_ones_list = [1, 1, 1, 1, 1]\n",
    "float_ones_list = [1., 1., 1., 1., 1.]\n",
    "int_ones_list + float_ones_list"
   ]
  },
  {
   "cell_type": "markdown",
   "metadata": {},
   "source": [
    "This is not perhaps what you wanted....you might have wanted this"
   ]
  },
  {
   "cell_type": "code",
   "execution_count": 13,
   "metadata": {},
   "outputs": [
    {
     "data": {
      "text/plain": [
       "(array([1, 1, 1, 1, 1, 1, 1, 1, 1, 1]),\n",
       " array([1., 1., 1., 1., 1., 1., 1., 1., 1., 1.]),\n",
       " array([2., 2., 2., 2., 2., 2., 2., 2., 2., 2.]))"
      ]
     },
     "execution_count": 13,
     "metadata": {},
     "output_type": "execute_result"
    }
   ],
   "source": [
    "twos = ones + ones_float\n",
    "ones, ones_float, twos"
   ]
  },
  {
   "cell_type": "code",
   "execution_count": 14,
   "metadata": {},
   "outputs": [
    {
     "data": {
      "text/plain": [
       "array([0.01941422, 0.83006584, 0.48864765, 0.62273877, 0.17283311,\n",
       "       0.1263449 , 0.3575471 , 0.54366763, 0.46060688, 0.64893679])"
      ]
     },
     "execution_count": 14,
     "metadata": {},
     "output_type": "execute_result"
    }
   ],
   "source": [
    "r = np.random.random(10)\n",
    "r"
   ]
  },
  {
   "cell_type": "markdown",
   "metadata": {},
   "source": [
    "More broadcasting"
   ]
  },
  {
   "cell_type": "code",
   "execution_count": 15,
   "metadata": {},
   "outputs": [
    {
     "data": {
      "text/plain": [
       "(array([0.03882844, 1.66013169, 0.9772953 , 1.24547754, 0.34566621,\n",
       "        0.2526898 , 0.71509419, 1.08733526, 0.92121376, 1.29787359]),\n",
       " array([0.00970711, 0.41503292, 0.24432382, 0.31136939, 0.08641655,\n",
       "        0.06317245, 0.17877355, 0.27183382, 0.23030344, 0.3244684 ]))"
      ]
     },
     "execution_count": 15,
     "metadata": {},
     "output_type": "execute_result"
    }
   ],
   "source": [
    "r*2, r/2"
   ]
  },
  {
   "cell_type": "code",
   "execution_count": 16,
   "metadata": {},
   "outputs": [
    {
     "data": {
      "text/plain": [
       "array([0.03882844, 1.66013169, 0.9772953 , 1.24547754, 0.34566621,\n",
       "       0.2526898 , 0.71509419, 1.08733526, 0.92121376, 1.29787359])"
      ]
     },
     "execution_count": 16,
     "metadata": {},
     "output_type": "execute_result"
    }
   ],
   "source": [
    "r*twos"
   ]
  },
  {
   "cell_type": "code",
   "execution_count": 17,
   "metadata": {},
   "outputs": [
    {
     "data": {
      "text/plain": [
       "8.541605789226685"
      ]
     },
     "execution_count": 17,
     "metadata": {},
     "output_type": "execute_result"
    }
   ],
   "source": [
    "np.dot(r, twos)"
   ]
  },
  {
   "cell_type": "markdown",
   "metadata": {},
   "source": [
    "We can also play with 2D arrays"
   ]
  },
  {
   "cell_type": "code",
   "execution_count": 18,
   "metadata": {},
   "outputs": [
    {
     "data": {
      "text/plain": [
       "array([[ 1,  2,  3,  4],\n",
       "       [ 5,  6,  7,  8],\n",
       "       [ 9, 10, 11, 12]])"
      ]
     },
     "execution_count": 18,
     "metadata": {},
     "output_type": "execute_result"
    }
   ],
   "source": [
    "my_array2d = np.array([ [1, 2, 3, 4], [5, 6, 7, 8], [9, 10, 11, 12] ])\n",
    "my_array2d"
   ]
  },
  {
   "cell_type": "code",
   "execution_count": 19,
   "metadata": {},
   "outputs": [
    {
     "data": {
      "text/plain": [
       "(3, 4)"
      ]
     },
     "execution_count": 19,
     "metadata": {},
     "output_type": "execute_result"
    }
   ],
   "source": [
    "my_array2d.shape"
   ]
  },
  {
   "cell_type": "code",
   "execution_count": 20,
   "metadata": {},
   "outputs": [
    {
     "data": {
      "text/plain": [
       "12"
      ]
     },
     "execution_count": 20,
     "metadata": {},
     "output_type": "execute_result"
    }
   ],
   "source": [
    "my_array2d[2, 3]"
   ]
  },
  {
   "cell_type": "markdown",
   "metadata": {},
   "source": [
    "Slicing is supported in 2D arrays.\n",
    "\n",
    "![](images/2dindex_v2.png)"
   ]
  },
  {
   "cell_type": "code",
   "execution_count": 21,
   "metadata": {},
   "outputs": [
    {
     "data": {
      "text/plain": [
       "array([[ 1.03308606,  2.00909015,  3.34029394,  4.23091601],\n",
       "       [ 5.44972183,  6.96501951,  7.94145264,  8.21084649],\n",
       "       [ 9.97678124, 10.52777827, 11.44290072, 12.99486383]])"
      ]
     },
     "execution_count": 21,
     "metadata": {},
     "output_type": "execute_result"
    }
   ],
   "source": [
    "x + my_array2d"
   ]
  },
  {
   "cell_type": "code",
   "execution_count": 22,
   "metadata": {},
   "outputs": [
    {
     "data": {
      "text/plain": [
       "array([2., 2., 2.])"
      ]
     },
     "execution_count": 22,
     "metadata": {},
     "output_type": "execute_result"
    }
   ],
   "source": [
    "threetwos = 2.0*np.ones(3)\n",
    "threetwos"
   ]
  },
  {
   "cell_type": "markdown",
   "metadata": {},
   "source": [
    "To put this in 2-D array form, we can use reshape:"
   ]
  },
  {
   "cell_type": "code",
   "execution_count": 23,
   "metadata": {},
   "outputs": [
    {
     "data": {
      "text/plain": [
       "array([[2.],\n",
       "       [2.],\n",
       "       [2.]])"
      ]
     },
     "execution_count": 23,
     "metadata": {},
     "output_type": "execute_result"
    }
   ],
   "source": [
    "threetwos.reshape(-1,1)"
   ]
  },
  {
   "cell_type": "markdown",
   "metadata": {},
   "source": [
    "Now we can have some broadcasting fun"
   ]
  },
  {
   "cell_type": "code",
   "execution_count": 24,
   "metadata": {},
   "outputs": [
    {
     "name": "stdout",
     "output_type": "stream",
     "text": [
      "[[ 1  2  3  4]\n",
      " [ 5  6  7  8]\n",
      " [ 9 10 11 12]]\n"
     ]
    },
    {
     "data": {
      "text/plain": [
       "array([[ 2.,  4.,  6.,  8.],\n",
       "       [10., 12., 14., 16.],\n",
       "       [18., 20., 22., 24.]])"
      ]
     },
     "execution_count": 24,
     "metadata": {},
     "output_type": "execute_result"
    }
   ],
   "source": [
    "print(my_array2d)\n",
    "my_array2d*threetwos.reshape(-1,1)"
   ]
  },
  {
   "cell_type": "markdown",
   "metadata": {},
   "source": [
    "You can transpose arrays"
   ]
  },
  {
   "cell_type": "code",
   "execution_count": 25,
   "metadata": {},
   "outputs": [
    {
     "data": {
      "text/plain": [
       "array([[ 1,  5,  9],\n",
       "       [ 2,  6, 10],\n",
       "       [ 3,  7, 11],\n",
       "       [ 4,  8, 12]])"
      ]
     },
     "execution_count": 25,
     "metadata": {},
     "output_type": "execute_result"
    }
   ],
   "source": [
    "my_array2d.T"
   ]
  },
  {
   "cell_type": "code",
   "execution_count": 26,
   "metadata": {},
   "outputs": [
    {
     "data": {
      "text/plain": [
       "array([[ 2., 10., 18.],\n",
       "       [ 4., 12., 20.],\n",
       "       [ 6., 14., 22.],\n",
       "       [ 8., 16., 24.]])"
      ]
     },
     "execution_count": 26,
     "metadata": {},
     "output_type": "execute_result"
    }
   ],
   "source": [
    "my_array2d.T*threetwos"
   ]
  },
  {
   "cell_type": "markdown",
   "metadata": {},
   "source": [
    "Reshape is very general"
   ]
  },
  {
   "cell_type": "code",
   "execution_count": 27,
   "metadata": {},
   "outputs": [
    {
     "data": {
      "text/plain": [
       "array([[ 1,  2,  3],\n",
       "       [ 4,  5,  6],\n",
       "       [ 7,  8,  9],\n",
       "       [10, 11, 12]])"
      ]
     },
     "execution_count": 27,
     "metadata": {},
     "output_type": "execute_result"
    }
   ],
   "source": [
    "my_array2d.reshape(4,3) #whats happening here?"
   ]
  },
  {
   "cell_type": "markdown",
   "metadata": {},
   "source": [
    "### What is probability?\n",
    "\n",
    "Suppose you were to flip a coin. Then you expect not to be able to say whether the next toss would yield a heads or a tails.  You might tell a friend that the odds of getting a heads is equal to to the odds of getting a tails, and that both are $1/2$.\n",
    "\n",
    "This intuitive notion of odds is a **probability**. It comes about because of our physical **model** of the world: say that because of our faith in the U.S. Mint, we might be willing to, without having seen any tosses, say that the coin is fair. In other words, there are two choices, both of which are equally likely.\n",
    "\n",
    "#### Symmetry \n",
    "\n",
    "Consider another example. If we were tossing a 'fair' six-sided dice, we may thus equivalently say that the odds of the dice falling on any one of its sides is $1/6$. Indeed if there are $C$ different equally likely possibilities, we'd expect that the probability of any one particular outcome would be $1/C$.\n",
    "\n",
    "The examples of the coin as well as the dice illustrate the notion of probability springing from **symmetry**. Here we think of probability of of the number 4 on the dice as the ratio:\n",
    "\n",
    "$$\\frac{Number\\: of\\: cases\\: for\\: number\\: 4}{number\\: of\\: possibilities} = \\frac{1}{6},$$\n",
    " assuming equally likely possibilities.\n",
    "\n",
    "In other words, the symmetry refers to the notion that when there are multiple ways for an event to happen, and that then we have an intuitive **model** of fairness between these ways that tells us that none of these are any more likely than the other. \n",
    "\n",
    "#### Probability from a model\n",
    "\n",
    "But now think of an event like an election, say a presidential election. You cant exactly run multiple trials of the election: its a one-off event. But you still want to talk about the likelyhood of a candidate winning. However people do make **models** of elections, based on inputs such as race, age, income, sampling polls, etc. They assign likeyhoods of candidates winning and run large numbers of **simulations** of the election, making predictions based on that. Forecasters like Nate Silver, Sam Wang, And Drew Linzer, made incredibly successfull predictions of the 2012 elections.\n",
    "\n",
    "Or consider what a weather forecaster means when he or she says there is a 90% chance of rain today. Presumably, this conclusion has been made from many computer **simulations** which take in the weather conditions known in the past, and propagated using physics to the current day. The simulations give different results based on the uncertainty in the measurement of past weather, and the inability of the physics to capture the phenomenon exactly (all physics is some approximation to the natural world). But 90% of these simulations show rain.\n",
    "\n",
    "In all of these cases, there is either a model (a fair coin, an election forecasting model, a weather differential equation), or an experiment ( a large number of coin tosses) that is used to **estimate** a probability, or the odds, of an **event** $E$ occuring. \n",
    "\n",
    "#### Combining models and observations\n",
    "\n",
    "In all of these cases, probability is something we speak of, for observations we are to make in the future. And it is something we assign, based on the *model* or belief of the world we have, or on the basis of past observations that we have made, or that we might even imagine that we would make.\n",
    "\n",
    "Consider some additional examples. You might ask the probability of the Yankees winning the next baseball game against the Red Sox. Or you might ask for the probability of a launch failure for the next missile protecting Tel-Aviv. These are not academic questions: lots of betting money and lives depend upon them respectively. In both cases there is some past data, and some other inputs such as say, weather conditions, which might be used to construct a model, which is then used to predict the fate of the next game or launch. \n",
    "\n",
    "They key takeaway is this: for some reasons, and possibly using some data, we have constructed a model of the universe. In other words, we have combined **prior** beliefs and past frequencies respectively. This notion of such combination is yet another notion of probability, called the **Bayesian** notion of probability. And we can now use this model to make predictions, such us the future odds of a particular event happening."
   ]
  },
  {
   "cell_type": "markdown",
   "metadata": {},
   "source": [
    "### Testing a model\n",
    "\n",
    "We can test this model by having carried out a large number of coin flips. You would do, or imagine doing, a large number of flips or **trials** $N$, and finding the number of times you got heads $N_H$. Then the probability of getting heads would be \n",
    "$$\\frac{N_H}{N}.$$\n",
    "\n",
    "#### Probability as frequency\n",
    "\n",
    "This is the notion of probability as a **relative frequency**: if there are multiple ways an **event** like the tossing of a coin can happen, lets look at multiple trials of the event and see the fraction of times one or other of these ways happened. "
   ]
  },
  {
   "cell_type": "markdown",
   "metadata": {},
   "source": [
    "#### Simulating the results of the model\n",
    "\n",
    "We dont have a coin right now. So let us **simulate** this process on a computer. To do this we will use a form of the **random number generator** built into `numpy`. In particular, we will use the function `np.random.choice`, which will with equal probability for all items pick an item from a list (thus if the list is of size 6, it will pick one of the six list items each time, with a probability 1/6). "
   ]
  },
  {
   "cell_type": "code",
   "execution_count": 28,
   "metadata": {
    "collapsed": false
   },
   "outputs": [
    {
     "name": "stdout",
     "output_type": "stream",
     "text": [
      "Throws: T H H T H T T H H T T H H T T H H T H H T T H H H H T T H T H T T H H T H H H H\n",
      "Number of Heads: 23\n",
      "p1 = Number of Heads/Total Throws: 0.575\n"
     ]
    }
   ],
   "source": [
    "def throw_a_coin(N):\n",
    "    return np.random.choice(['H','T'], size=N)\n",
    "throws=throw_a_coin(40)\n",
    "print(\"Throws:\",\" \".join(throws))\n",
    "print(\"Number of Heads:\", np.sum(throws=='H'))\n",
    "print(\"p1 = Number of Heads/Total Throws:\", np.sum(throws=='H')/40.)"
   ]
  },
  {
   "cell_type": "markdown",
   "metadata": {},
   "source": [
    "Notice that you do not necessarily get 20 heads.\n",
    "\n",
    "Now say that we run the entire process again, a second **replication** to obtain a second sample. Then we ask the same question: what is the fraction of heads we get this time? Lets call the odds of heads in sample 2, then, $p_2$:"
   ]
  },
  {
   "cell_type": "code",
   "execution_count": 29,
   "metadata": {
    "collapsed": false
   },
   "outputs": [
    {
     "name": "stdout",
     "output_type": "stream",
     "text": [
      "Number of Heads: 19\n",
      "p1 = Number of Heads/Total Throws: 0.475\n"
     ]
    }
   ],
   "source": [
    "throws=throw_a_coin(40)\n",
    "print(\"Number of Heads:\", np.sum(throws=='H'))\n",
    "print(\"p1 = Number of Heads/Total Throws:\", np.sum(throws=='H')/40.)"
   ]
  },
  {
   "cell_type": "code",
   "execution_count": 30,
   "metadata": {},
   "outputs": [
    {
     "name": "stdout",
     "output_type": "stream",
     "text": [
      "Number of Heads: 4951\n",
      "p1 = Number of Heads/Total Throws: 0.4951\n"
     ]
    }
   ],
   "source": [
    "throws=throw_a_coin(10000)\n",
    "print(\"Number of Heads:\", np.sum(throws=='H'))\n",
    "print(\"p1 = Number of Heads/Total Throws:\", np.sum(throws=='H')/10000.)"
   ]
  },
  {
   "cell_type": "markdown",
   "metadata": {},
   "source": [
    "As you can see, the larger number of trials we do, the closer we seem to get to half the tosses showing up heads. Lets see this more systematically. We'll use `np.arange` which gives us a grid:"
   ]
  },
  {
   "cell_type": "code",
   "execution_count": 31,
   "metadata": {},
   "outputs": [
    {
     "data": {
      "text/plain": [
       "(array([0, 1, 2, 3, 4, 5, 6, 7, 8, 9]),\n",
       " array([10, 11, 12, 13, 14, 15, 16, 17, 18, 19]),\n",
       " array([10, 12, 14, 16, 18]))"
      ]
     },
     "execution_count": 31,
     "metadata": {},
     "output_type": "execute_result"
    }
   ],
   "source": [
    "np.arange(10), np.arange(10,20), np.arange(10,20, 2)"
   ]
  },
  {
   "cell_type": "markdown",
   "metadata": {},
   "source": [
    "We are going to do many more trials. Pay attention to the plotting commands as well."
   ]
  },
  {
   "cell_type": "code",
   "execution_count": 32,
   "metadata": {
    "collapsed": false
   },
   "outputs": [
    {
     "data": {
      "image/png": "[encoded data removed]",
      "text/plain": [
       "<Figure size 432x288 with 1 Axes>"
      ]
     },
     "metadata": {},
     "output_type": "display_data"
    }
   ],
   "source": [
    "trials=np.arange(1000, 40000, 1000)\n",
    "plt.plot(trials, [np.sum(throw_a_coin(j)=='H')/np.float(j) for j in trials], 'o-', alpha=0.2);\n",
    "plt.axhline(0.5, 0, 1, color='r');\n",
    "plt.xlabel('number of trials');\n",
    "plt.ylabel('probability of heads from simulation');\n",
    "plt.title('frequentist probability of heads');"
   ]
  },
  {
   "cell_type": "markdown",
   "metadata": {},
   "source": [
    "Thus, the true odds **fluctuate** about their long-run value of 0.5, in accordance with the model of a fair coin (which we encoded in our simulation by having `np.random.choice` choose between two possibilities with equal probability), with the fluctuations becoming much smaller (we shall talk a lot more about this later in the book). These **fluctations** are what give rise to probability distributions.\n",
    "\n",
    "Each finite length run is called a **sample**, which has been obtained from the **generative** model of our fair coin. Its called generative as we can use the model to generate, using simulation, a set of samples we can play with to understand a model. Such **simulation from a model** is a key technique which we will come back to again and again in learning from data."
   ]
  },
  {
   "cell_type": "markdown",
   "metadata": {},
   "source": [
    "### The rules of probability\n",
    "\n",
    "We have seen multiple notions of probability so far. One might assign probabilities based on symmetry, for eg, 2 sides of a fair coin, or six sides of a fair dice. One might assign probabilities based on doing an experiment. such as the long run number of heads in many coin flips. One might assign probabilities based on beliefs; and one might even assign probabilities to events that have no chance of repeating, such as the 2012 presidential election, or the probability of rain between 2pm and 6pm today.\n",
    "\n",
    "Thus, the very definition of probability seems to be wishy-washy and subjective. Thus you might wonder how you might work with such probabilities. For this, we turn to the rules of probability.\n",
    "\n",
    "The rules dont care where our probabilities come from, as to how we estimated them, as long as they behave in intuitively sensible ways. \n",
    "\n",
    "Consider an example: \n",
    "\n",
    "E is the event of getting a heads in a first coin toss, and F is the same for a second coin toss. Here $\\Omega$, the set of all possibilities that can happen when you toss two coins is $\\{HH, HT, TH, TT\\}$. Since E only specifies that the first toss is heads, $E=\\{HT, HH\\}$. Similarly $F= {HH, TH}$ The set of all events that are not E then is $\\tilde{E} = {TH, TT}$.\n",
    "\n",
    "These sets, along with some others are captured in the venn diagram below:\n",
    "\n",
    "![2 coin toss venn diagram](images/venn.png) \n",
    "\n",
    "The critical notions of probability are:\n",
    "\n",
    "**Something must happen**\n",
    "\n",
    "$$P(\\Omega) =1$$\n",
    "\n",
    "**Complementary events must have probabilities summing to 1**\n",
    "\n",
    "Either E happened or didnt. So,\n",
    "\n",
    "$$P(E) + P(\\sim E) = 1$$\n",
    "\n",
    "**The Multiply/And/Intersection Formula for independent events**: If E and F are independent events, the probability of both events happening together $P(EF)$ or $P(E \\cap F)$ (read as E and F or E intersection F, respectively) is the multiplication of the individual probabilities.\n",
    "\n",
    "$$ P(EF) = P(E) P(F) .$$\n",
    "\n",
    "If you made the two independent coin tosses in our example, and you had a fair coin, the probability of both coming up heads is $(1/2)*(1/2) = 1/4$. This makes intuitive sense: half the time the first coin comes up heads, and then 1/2 the time the second coin comes up heads, so its 1/4 of the times that both come up heads.\n",
    "\n",
    "\n",
    "**The Plus/Or/Union Formula** \n",
    "\n",
    "We can now ask the question, what is $P(E+F)$, the odds of E alone, F alone, or both together. Translated into English, we are asking, whats the probability that only the first toss was heads, or only the second toss was heads, or that both came up heads?  Or in other words, what are the odds of at least one heads? The answer to this question is given by the rule:\n",
    "\n",
    "$$P(E+F) = P(E) + P(F) - P(EF),$$ \n",
    "\n",
    "the \"plus\" formula, where E+F, read as E or F (also $E \\cup F$, reads as E union F) means \"E alone, F alone, **or** both together\". This rule is a hard one to understand and has a lot of notation, so lets examine it in some detail.\n",
    "\n",
    "There are four ways that these two tosses can arrange themselves, as illustrated by this diagram.\n",
    "\n",
    "![2 coin flips](images/2flips.png) \n",
    "\n",
    "We can have a HH, HT, TH, or TT. In three out of 4 of these cases, either the first toss was heads, or the second was heads. Thus $P(E+F)=3/4$. \n",
    "\n",
    "The formula says, add the odds that \"the first toss was a heads, without worrying about the second one (1/2), to the probability that the second toss was a heads, without worrying about the first one\" (1/2). Since this double counts the situation where both are heads; subtract that (1/4):\n",
    "\n",
    "\\begin{eqnarray*}\n",
    "P(E+F) \\, & = &\\, P(E) + P(F) - P(EF)\\\\\n",
    "\\frac{3}{4} \\, & = &\\, \\frac{1}{2} + \\frac{1}{2} - \\frac{1}{4} \n",
    "\\end{eqnarray*}\n"
   ]
  },
  {
   "cell_type": "markdown",
   "metadata": {},
   "source": [
    "### A simple Election Model\n",
    "\n",
    "In the last section, we made a simple simulation of a coin-toss on the computer from a fair-coin model which associated equal probability with heads and tails. Let us consider another model here, a table of probabilities that [PredictWise](http://www.predictwise.com/results/2012/president) made on October 2, 2012 for the US presidential elections. \n",
    "PredictWise aggregated polling data and, for each state, estimated the probability that the Obama or Romney would win. Here are those estimated probabilities:"
   ]
  },
  {
   "cell_type": "code",
   "execution_count": 33,
   "metadata": {
    "collapsed": false
   },
   "outputs": [
    {
     "data": {
      "text/html": [
       "<div>\n",
       "<style scoped>\n",
       "    .dataframe tbody tr th:only-of-type {\n",
       "        vertical-align: middle;\n",
       "    }\n",
       "\n",
       "    .dataframe tbody tr th {\n",
       "        vertical-align: top;\n",
       "    }\n",
       "\n",
       "    .dataframe thead th {\n",
       "        text-align: right;\n",
       "    }\n",
       "</style>\n",
       "<table border=\"1\" class=\"dataframe\">\n",
       "  <thead>\n",
       "    <tr style=\"text-align: right;\">\n",
       "      <th></th>\n",
       "      <th>Obama</th>\n",
       "      <th>Romney</th>\n",
       "      <th>Votes</th>\n",
       "    </tr>\n",
       "    <tr>\n",
       "      <th>States</th>\n",
       "      <th></th>\n",
       "      <th></th>\n",
       "      <th></th>\n",
       "    </tr>\n",
       "  </thead>\n",
       "  <tbody>\n",
       "    <tr>\n",
       "      <th>Alabama</th>\n",
       "      <td>0.000</td>\n",
       "      <td>1.000</td>\n",
       "      <td>9</td>\n",
       "    </tr>\n",
       "    <tr>\n",
       "      <th>Alaska</th>\n",
       "      <td>0.000</td>\n",
       "      <td>1.000</td>\n",
       "      <td>3</td>\n",
       "    </tr>\n",
       "    <tr>\n",
       "      <th>Arizona</th>\n",
       "      <td>0.062</td>\n",
       "      <td>0.938</td>\n",
       "      <td>11</td>\n",
       "    </tr>\n",
       "    <tr>\n",
       "      <th>Arkansas</th>\n",
       "      <td>0.000</td>\n",
       "      <td>1.000</td>\n",
       "      <td>6</td>\n",
       "    </tr>\n",
       "    <tr>\n",
       "      <th>California</th>\n",
       "      <td>1.000</td>\n",
       "      <td>0.000</td>\n",
       "      <td>55</td>\n",
       "    </tr>\n",
       "  </tbody>\n",
       "</table>\n",
       "</div>"
      ],
      "text/plain": [
       "            Obama  Romney  Votes\n",
       "States                          \n",
       "Alabama     0.000   1.000      9\n",
       "Alaska      0.000   1.000      3\n",
       "Arizona     0.062   0.938     11\n",
       "Arkansas    0.000   1.000      6\n",
       "California  1.000   0.000     55"
      ]
     },
     "execution_count": 33,
     "metadata": {},
     "output_type": "execute_result"
    }
   ],
   "source": [
    "predictwise = pd.read_csv('data/predictwise.csv').set_index('States')\n",
    "predictwise.head()"
   ]
  },
  {
   "cell_type": "markdown",
   "metadata": {},
   "source": [
    "Each row is the probability predicted by Predictwise that Romney or Obama would win a state. The votes column lists the number of electoral college votes in that state. \n",
    "\n",
    "Remember that simulation is used in different ways in the modelling process. Simulations might be used to propagate differential equations which describe the weather from different initial conditions. In this case they are used to create the model. In the coin flips case, they are used to illustrate the predictions of the model of a fair coin. This example is in the same spirit: we are given a (somehow obtained) list of win probabilities for the states of the US. \n",
    "Later on in this book we will explore some approaches to estimating probabilities like these and quatifying our uncertainty about them. But for the time being, we will focus on how to make a prediction assuming these probabilities are known.\n",
    "\n",
    "Lets plot a map of the probability that Obama wins each state, according to this prediction."
   ]
  },
  {
   "cell_type": "code",
   "execution_count": 34,
   "metadata": {
    "collapsed": false,
    "figure_type": "w"
   },
   "outputs": [
    {
     "name": "stderr",
     "output_type": "stream",
     "text": [
      "//anaconda/envs/py3l/lib/python3.6/site-packages/matplotlib/__init__.py:855: MatplotlibDeprecationWarning: \n",
      "examples.directory is deprecated; in the future, examples will be found relative to the 'datapath' directory.\n",
      "  \"found relative to the 'datapath' directory.\".format(key))\n",
      "//anaconda/envs/py3l/lib/python3.6/site-packages/matplotlib/__init__.py:846: MatplotlibDeprecationWarning: \n",
      "The text.latex.unicode rcparam was deprecated in Matplotlib 2.2 and will be removed in 3.1.\n",
      "  \"2.2\", name=key, obj_type=\"rcparam\", addendum=addendum)\n"
     ]
    },
    {
     "data": {
      "image/png": "[encoded data removed]",
      "text/plain": [
       "<Figure size 864x648 with 2 Axes>"
      ]
     },
     "metadata": {},
     "output_type": "display_data"
    }
   ],
   "source": [
    "from statesplot import make_map, load_states_geom\n",
    "s2p = load_states_geom(\"data/us-states.json\")\n",
    "make_map(s2p, predictwise.Obama, \"P(Obama): PredictWise\");"
   ]
  },
  {
   "cell_type": "markdown",
   "metadata": {},
   "source": [
    "You might be tempted from seeing this map to wonder why Romney ever thought he would win this election. But lets be patient: remember these are just probabilities, and this is our model of the election as of October 12th, 2012.\n",
    "\n",
    "In the case of the tossed coins, even though we had a model which said that the probability of heads was 0.5, there were sequences of flips in which more or less than half the flips were heads. Similarly, here, if the probability of Romney winning in Arizona is 0.938, it means that if somehow, there were 1000 replications with an election each, Romney would win in 938 of those Arizonas **on the average** across the replications. And there would be some samples with Romney winning more, and some with less. We can run these **simulated** universes on a computer though not in real life.\n",
    "\n",
    "#### Simulating the model\n",
    "\n",
    "To do this, \n",
    "we will assume that the outcome in each state is the result of an independent coin flip whose probability of coming up Obama is given by the Predictwise state-wise win probabilities. Lets write a function `simulate_election` that uses this **predictive model** to simulate the outcome of the election given a table of probabilities.\n",
    "\n",
    "In the code below, each column simulates a single outcome from the 50 states + DC by choosing a random number between 0 and 1. Obama wins that simulation if the random number is $<$ the win probability. If he wins that simulation, we add in the electoral votes for that state, otherwise we dont. We do this `n_sim` times and return a list of total Obama electoral votes in each simulation."
   ]
  },
  {
   "cell_type": "code",
   "execution_count": 35,
   "metadata": {
    "collapsed": false
   },
   "outputs": [],
   "source": [
    "def simulate_election(model, n_sim):\n",
    "    simulations = np.random.uniform(size=(51, n_sim))\n",
    "    obama_votes = (simulations < model.Obama.values.reshape(-1, 1)) * model.Votes.values.reshape(-1, 1)\n",
    "    #summing over rows gives the total electoral votes for each simulation\n",
    "    return obama_votes.sum(axis=0)"
   ]
  },
  {
   "cell_type": "markdown",
   "metadata": {},
   "source": [
    "Lets unpack this function a bit, as a lot goes on.\n",
    "\n",
    "First we decide to make, say 100 simulations. We'll create 51 rows of 100 random numbers (100 columns) between 0 and 1"
   ]
  },
  {
   "cell_type": "code",
   "execution_count": 36,
   "metadata": {},
   "outputs": [
    {
     "name": "stdout",
     "output_type": "stream",
     "text": [
      "(51, 100)\n"
     ]
    },
    {
     "data": {
      "text/plain": [
       "array([[0.88281224, 0.78696535, 0.75547851, ..., 0.43978053, 0.3461644 ,\n",
       "        0.66782337],\n",
       "       [0.50711669, 0.99625101, 0.94845386, ..., 0.40927068, 0.28464048,\n",
       "        0.97862873],\n",
       "       [0.13244868, 0.50075153, 0.97514704, ..., 0.50551976, 0.0449578 ,\n",
       "        0.47949258],\n",
       "       ...,\n",
       "       [0.0172912 , 0.55238289, 0.4601983 , ..., 0.35333128, 0.8790008 ,\n",
       "        0.16048474],\n",
       "       [0.66986697, 0.74974072, 0.12681051, ..., 0.49402321, 0.38557553,\n",
       "        0.78933385],\n",
       "       [0.63114207, 0.11121172, 0.70388682, ..., 0.95499577, 0.95430148,\n",
       "        0.04237615]])"
      ]
     },
     "execution_count": 36,
     "metadata": {},
     "output_type": "execute_result"
    }
   ],
   "source": [
    "sims = np.random.uniform(size=(51, 100))\n",
    "print(sims.shape)\n",
    "sims"
   ]
  },
  {
   "cell_type": "markdown",
   "metadata": {},
   "source": [
    "Now, consider the sixth row, or sixth state, Colorado"
   ]
  },
  {
   "cell_type": "code",
   "execution_count": 37,
   "metadata": {},
   "outputs": [
    {
     "name": "stdout",
     "output_type": "stream",
     "text": [
      "Obama     0.807\n",
      "Romney    0.193\n",
      "Votes     9.000\n",
      "Name: Colorado, dtype: float64\n"
     ]
    },
    {
     "data": {
      "text/plain": [
       "array([5.73660570e-01, 3.49164334e-01, 8.09314758e-01, 7.49684067e-01,\n",
       "       7.88247598e-01, 6.00135233e-01, 1.41281454e-01, 5.27631668e-01,\n",
       "       1.61342947e-01, 6.33751710e-01, 9.75322553e-01, 3.49755328e-01,\n",
       "       1.95681230e-01, 2.12997263e-01, 9.26037954e-01, 8.26724718e-01,\n",
       "       8.46528702e-01, 9.27930475e-02, 6.64699404e-01, 8.54810544e-01,\n",
       "       7.05974570e-02, 7.28433473e-02, 1.72903688e-01, 3.30067052e-01,\n",
       "       5.24968051e-01, 8.84263651e-01, 8.82986996e-01, 2.77644764e-01,\n",
       "       2.44070521e-04, 2.69249511e-01, 1.69325345e-01, 1.48960076e-01,\n",
       "       9.60197869e-01, 9.75585891e-01, 8.92035228e-01, 1.99528525e-01,\n",
       "       3.11646435e-01, 6.08327143e-01, 6.41181200e-02, 4.12939715e-01,\n",
       "       2.03063308e-01, 5.60013645e-01, 6.69036317e-01, 7.29991875e-01,\n",
       "       4.59714165e-01, 2.34166344e-01, 7.40690806e-01, 9.74887031e-01,\n",
       "       1.93588011e-01, 6.02624892e-01, 1.16025182e-01, 9.24720776e-01,\n",
       "       1.07685031e-01, 7.32801970e-01, 9.41858632e-02, 6.81329701e-01,\n",
       "       9.30190446e-01, 4.32718774e-01, 4.05904101e-01, 3.69421117e-01,\n",
       "       8.11735692e-01, 5.90346607e-01, 3.70340671e-01, 8.97794321e-01,\n",
       "       6.64581054e-01, 6.80444217e-01, 5.45449321e-01, 6.33662334e-01,\n",
       "       1.06798948e-01, 8.33716201e-01, 1.65224747e-01, 2.52195072e-01,\n",
       "       7.81354880e-01, 2.20703461e-02, 6.32321712e-01, 2.36961960e-01,\n",
       "       9.42233963e-02, 1.31047317e-01, 1.53211147e-01, 1.76048103e-02,\n",
       "       1.31239383e-01, 5.33091043e-01, 3.85252817e-01, 6.82320948e-02,\n",
       "       2.66710905e-01, 5.98216643e-01, 7.34318210e-01, 7.91196680e-01,\n",
       "       1.01356502e-01, 6.85317481e-01, 8.32746180e-01, 5.58129893e-01,\n",
       "       8.23818898e-01, 7.26275298e-01, 4.77083107e-01, 7.93411131e-01,\n",
       "       9.89132674e-02, 1.31581992e-01, 2.21553276e-01, 2.29765543e-01])"
      ]
     },
     "execution_count": 37,
     "metadata": {},
     "output_type": "execute_result"
    }
   ],
   "source": [
    "print(predictwise.iloc[5])\n",
    "sims[5,:]"
   ]
  },
  {
   "cell_type": "markdown",
   "metadata": {},
   "source": [
    "With an Obama probability of about 0.8, This means that if I threw down random numbers between 0 and 1 **uniformly**, about 80% should be below 0.8. So we can pick the simulations in which Obama wins Colorado by seeing in how many of the simulations the random number thrown is less than 0.8"
   ]
  },
  {
   "cell_type": "code",
   "execution_count": 38,
   "metadata": {},
   "outputs": [
    {
     "data": {
      "text/plain": [
       "array([ True,  True, False,  True,  True,  True,  True,  True,  True,\n",
       "        True, False,  True,  True,  True, False, False, False,  True,\n",
       "        True, False,  True,  True,  True,  True,  True, False, False,\n",
       "        True,  True,  True,  True,  True, False, False, False,  True,\n",
       "        True,  True,  True,  True,  True,  True,  True,  True,  True,\n",
       "        True,  True, False,  True,  True,  True, False,  True,  True,\n",
       "        True,  True, False,  True,  True,  True, False,  True,  True,\n",
       "       False,  True,  True,  True,  True,  True, False,  True,  True,\n",
       "        True,  True,  True,  True,  True,  True,  True,  True,  True,\n",
       "        True,  True,  True,  True,  True,  True,  True,  True,  True,\n",
       "       False,  True, False,  True,  True,  True,  True,  True,  True,\n",
       "        True])"
      ]
     },
     "execution_count": 38,
     "metadata": {},
     "output_type": "execute_result"
    }
   ],
   "source": [
    "sims[5,:] < predictwise.loc['Colorado'].Obama"
   ]
  },
  {
   "cell_type": "markdown",
   "metadata": {},
   "source": [
    "This is a boolean numpy array. Summing coerces the True to 1 and False to 0 and gives us the total number of simulations"
   ]
  },
  {
   "cell_type": "code",
   "execution_count": 39,
   "metadata": {},
   "outputs": [
    {
     "data": {
      "text/plain": [
       "81"
      ]
     },
     "execution_count": 39,
     "metadata": {},
     "output_type": "execute_result"
    }
   ],
   "source": [
    "np.sum(sims[5,:] < predictwise.loc['Colorado'].Obama)"
   ]
  },
  {
   "cell_type": "markdown",
   "metadata": {},
   "source": [
    "And the fraction from the mean:"
   ]
  },
  {
   "cell_type": "code",
   "execution_count": 40,
   "metadata": {},
   "outputs": [
    {
     "data": {
      "text/plain": [
       "0.81"
      ]
     },
     "execution_count": 40,
     "metadata": {},
     "output_type": "execute_result"
    }
   ],
   "source": [
    "np.mean(sims[5,:] < predictwise.loc['Colorado'].Obama)"
   ]
  },
  {
   "cell_type": "markdown",
   "metadata": {},
   "source": [
    "Lets do it for all the states now. 51 rows of 100 trues and Falses"
   ]
  },
  {
   "cell_type": "code",
   "execution_count": 41,
   "metadata": {},
   "outputs": [
    {
     "data": {
      "text/plain": [
       "array([[False, False, False, ..., False, False, False],\n",
       "       [False, False, False, ..., False, False, False],\n",
       "       [False, False, False, ..., False,  True, False],\n",
       "       ...,\n",
       "       [False, False, False, ..., False, False, False],\n",
       "       [ True,  True,  True, ...,  True,  True,  True],\n",
       "       [False, False, False, ..., False, False, False]])"
      ]
     },
     "execution_count": 41,
     "metadata": {},
     "output_type": "execute_result"
    }
   ],
   "source": [
    "sims < predictwise.Obama.values.reshape(-1,1) # reshape for broadcasting"
   ]
  },
  {
   "cell_type": "markdown",
   "metadata": {},
   "source": [
    "Multiply by the number of electoral Votes in each state"
   ]
  },
  {
   "cell_type": "code",
   "execution_count": 42,
   "metadata": {},
   "outputs": [
    {
     "data": {
      "text/plain": [
       "array([[ 0,  0,  0, ...,  0,  0,  0],\n",
       "       [ 0,  0,  0, ...,  0,  0,  0],\n",
       "       [ 0,  0,  0, ...,  0, 11,  0],\n",
       "       ...,\n",
       "       [ 0,  0,  0, ...,  0,  0,  0],\n",
       "       [10, 10, 10, ..., 10, 10, 10],\n",
       "       [ 0,  0,  0, ...,  0,  0,  0]])"
      ]
     },
     "execution_count": 42,
     "metadata": {},
     "output_type": "execute_result"
    }
   ],
   "source": [
    "(sims < predictwise.Obama.values.reshape(-1,1))*predictwise.Votes.values.reshape(-1,1)"
   ]
  },
  {
   "cell_type": "markdown",
   "metadata": {},
   "source": [
    "If I sum the columns now, I get the total electoral votes in the country for Obama in each simulation"
   ]
  },
  {
   "cell_type": "code",
   "execution_count": 43,
   "metadata": {},
   "outputs": [
    {
     "data": {
      "text/plain": [
       "array([332, 323, 323, 326, 314, 347, 312, 343, 291, 325, 294, 277, 302,\n",
       "       343, 326, 338, 305, 309, 326, 276, 332, 343, 307, 326, 361, 325,\n",
       "       317, 334, 345, 303, 347, 313, 323, 288, 307, 313, 326, 310, 329,\n",
       "       303, 326, 316, 326, 283, 335, 332, 332, 295, 297, 332, 326, 323,\n",
       "       357, 299, 343, 324, 318, 299, 299, 328, 323, 347, 347, 323, 290,\n",
       "       326, 331, 279, 329, 323, 285, 347, 284, 303, 320, 278, 319, 332,\n",
       "       309, 350, 342, 290, 299, 314, 284, 326, 347, 332, 328, 326, 323,\n",
       "       336, 293, 302, 341, 347, 290, 327, 343, 334])"
      ]
     },
     "execution_count": 43,
     "metadata": {},
     "output_type": "execute_result"
    }
   ],
   "source": [
    "np.sum((sims < predictwise.Obama.values.reshape(-1,1))*predictwise.Votes.values.reshape(-1,1), axis=0)"
   ]
  },
  {
   "cell_type": "markdown",
   "metadata": {},
   "source": [
    "This is how `simulate_election` works.\n",
    "\n",
    "The following code takes the necessary probabilities for the Predictwise data, and runs 10000 simulations. If you think of this in terms of our coins, think of it as having 51 biased coins, one for each state, and tossing them 10,000 times each.\n",
    "\n",
    "We use the results to compute the number of simulations, according to this predictive model, that Obama wins the election (i.e., the probability that he receives 269 or more electoral college votes)"
   ]
  },
  {
   "cell_type": "code",
   "execution_count": 44,
   "metadata": {
    "collapsed": false
   },
   "outputs": [
    {
     "name": "stdout",
     "output_type": "stream",
     "text": [
      "<class 'numpy.ndarray'>\n"
     ]
    },
    {
     "data": {
      "text/plain": [
       "9961"
      ]
     },
     "execution_count": 44,
     "metadata": {},
     "output_type": "execute_result"
    }
   ],
   "source": [
    "result = simulate_election(predictwise, 10000)\n",
    "print(type(result))\n",
    "np.sum(result >= 269)"
   ]
  },
  {
   "cell_type": "markdown",
   "metadata": {},
   "source": [
    "There are roughly only 50 simulations in which Romney wins the election!\n",
    "\n",
    "#### Displaying the prediction\n",
    "\n",
    "Now, lets visualize the simulation. We will build a histogram from the result of `simulate_election`. We will **normalize** the histogram by dividing the frequency of a vote tally by the number of simulations. We'll overplot the \"victory threshold\" of 269 votes as a vertical black line and the result (Obama winning 332 votes) as a vertical red line.\n",
    "\n",
    "We also compute the number of votes at the 5th and 95th quantiles, which we call the spread, and display it (this is an estimate of the outcome's uncertainty). By 5th quantile we mean that if we ordered the number of votes Obama gets in each simulation in increasing order, the 5th quantile is the number below which 5\\% of the simulations lie. \n",
    "\n",
    "We also display the probability of an Obama victory    \n",
    "    "
   ]
  },
  {
   "cell_type": "code",
   "execution_count": 48,
   "metadata": {
    "collapsed": false
   },
   "outputs": [],
   "source": [
    "def plot_simulation(simulation):    \n",
    "    plt.hist(simulation, bins=np.arange(200, 538, 1), \n",
    "             label='simulations', align='left', normed=True)\n",
    "    plt.axvline(332, 0, .5, color='r', label='Actual Outcome')\n",
    "    plt.axvline(269, 0, .5, color='k', label='Victory Threshold')\n",
    "    p05 = np.percentile(simulation, 5.)\n",
    "    p95 = np.percentile(simulation, 95.)\n",
    "    iq = int(p95 - p05)\n",
    "    pwin = ((simulation >= 269).mean() * 100)\n",
    "    plt.title(\"Chance of Obama Victory: %0.2f%%, Spread: %d votes\" % (pwin, iq))\n",
    "    plt.legend(frameon=False, loc='upper left')\n",
    "    plt.xlabel(\"Obama Electoral College Votes\")\n",
    "    plt.ylabel(\"Probability\")\n",
    "    sns.despine()"
   ]
  },
  {
   "cell_type": "code",
   "execution_count": 49,
   "metadata": {
    "collapsed": false
   },
   "outputs": [
    {
     "name": "stderr",
     "output_type": "stream",
     "text": [
      "//anaconda/envs/py3l/lib/python3.6/site-packages/matplotlib/axes/_axes.py:6521: MatplotlibDeprecationWarning: \n",
      "The 'normed' kwarg was deprecated in Matplotlib 2.1 and will be removed in 3.1. Use 'density' instead.\n",
      "  alternative=\"'density'\", removal=\"3.1\")\n"
     ]
    },
    {
     "data": {
      "image/png": "[encoded data removed]",
      "text/plain": [
       "<Figure size 921.6x633.6 with 1 Axes>"
      ]
     },
     "metadata": {},
     "output_type": "display_data"
    }
   ],
   "source": [
    "with sns.plotting_context('poster'):\n",
    "    plot_simulation(result)"
   ]
  },
  {
   "cell_type": "markdown",
   "metadata": {},
   "source": [
    "The model created by combining the probabilities we obtained from Predictwise with the simulation of a biased coin flip corresponding to the win probability in each states leads us to obtain a histogram of election outcomes. We are plotting the probabilities of a prediction, so we call this distribution over outcomes the **predictive distribution**. Simulating from our model and plotting a histogram allows us to visualize this predictive distribution. In general, such a set of probabilities is called a **probability distribution** or **probability mass function**. "
   ]
  },
  {
   "cell_type": "markdown",
   "metadata": {},
   "source": [
    "### Evaluating and Validating our Prediction\n",
    "\n",
    "The point of creating a probabilistic predictive model is to simultaneously make a forecast and give an estimate of how certain we are about it. Let us **evaluate** our prediction to get a sense of how useful it is, and we **validate** the predictive model by comparing it to real data.\n",
    "\n",
    "However, in order to trust our prediction or our reported level of uncertainty, the model needs to be *correct*. We say a model is *correct* if it honestly accounts for all of the mechanisms of variation in the system we're forecasting. Another way of thinking about this is that the predictive distribution matches the true distribution of election outcomes when the information leading up to the election matches the information that we have now.\n",
    "\n",
    "In general a model is never entirely correct: it is just an approximation to the underlying natural phenomenon. However it might be correct enough to be useful: our simple model of a fair coin is one such example where we've substituted subtle notions of the weight distributions of a coin or trust in the US mint by a simple number, 0.5.\n",
    "\n",
    "#### Accuracy and precision\n",
    "\n",
    "Suppose that we believe the model is correct \"enough\". Under this assumption, we can evaluate our prediction by characterizing its **accuracy** and **precision**.\n",
    "\n",
    "Accuracy refers to the closeness of our predictions to the true result, while precision refers to the uncertainty about our predicted value. Thus, to evaluate the accuracy of our prediction, we can check to see whether the center of mass of our predictive distribution seems to match the true outcome.  So, based on the outcome we observed, the model seems accurate. To make a more rigorous statement about accuracy, we would want to have more replications (that is, more elections) to see whether the expectation of the predictive distribution consistently matches the true outcomes. \n",
    "\n",
    "To evaluate the **precision** of our prediction,  we look at the spread of the histogram, which is 60 votes, and relatively large. Because we are assuming the model is correct, we can interpret the spread of the histogram as a measure of the variability among the election outcomes that are consistent with the information we have. Whether the prediction is precise *enough* is a question of what you want to do with your prediction. For example, it is not if you want to be able to call the winner of a close election (say the candidates are separated by less than 30 votes), this prediction would not be precise enough to identify a winner with a lot of confidence. To handle this, we might wish to incorporate more information into the model to reduce the spread of likely election outcomes. \n",
    "\n",
    "On the other hand, what we are really trying to do is to see if Romney has any chance of winning by Obama not exceeding the 269 votes threshold. For this purpose the precision is good enough; the win threshold is way outside the spread!\n",
    "\n",
    "![m:](images/avp1.jpg)\n",
    "\n",
    "![m:accuracy vs precision](images/avp2.jpg)"
   ]
  }
 ],
 "metadata": {
  "celltoolbar": "Edit Metadata",
  "kernelspec": {
   "display_name": "Python 3",
   "language": "python",
   "name": "python3"
  },
  "language_info": {
   "codemirror_mode": {
    "name": "ipython",
    "version": 3
   },
   "file_extension": ".py",
   "mimetype": "text/x-python",
   "name": "python",
   "nbconvert_exporter": "python",
   "pygments_lexer": "ipython3",
   "version": "3.6.8"
  }
 },
 "nbformat": 4,
 "nbformat_minor": 2
}
